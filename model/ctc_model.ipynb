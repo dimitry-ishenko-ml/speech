{
 "cells": [
  {
   "cell_type": "markdown",
   "metadata": {},
   "source": [
    "# Model"
   ]
  },
  {
   "cell_type": "code",
   "execution_count": null,
   "metadata": {},
   "outputs": [],
   "source": [
    "!pip3 install -q open_speech; pip3 freeze | grep open-speech\n",
    "\n",
    "try:\n",
    "    from google.colab import auth\n",
    "    auth.authenticate_user()\n",
    "\n",
    "except Exception as e: print(e)"
   ]
  },
  {
   "cell_type": "code",
   "execution_count": null,
   "metadata": {},
   "outputs": [],
   "source": [
    "import sys\n",
    "sys.path.append(\"..\")\n",
    "\n",
    "import tensorflow as tf\n",
    "import tensorflow.keras as keras\n",
    "import util\n",
    "\n",
    "print(\"Using tensorflow:\", tf.__version__)"
   ]
  },
  {
   "cell_type": "markdown",
   "metadata": {},
   "source": [
    "## Model parameters"
   ]
  },
  {
   "cell_type": "code",
   "execution_count": null,
   "metadata": {
    "tags": []
   },
   "outputs": [],
   "source": [
    "model_name = \"model\"\n",
    "tpu_node = \"\" # set to \"node-X\", \"colab\" or `None`\n",
    "\n",
    "root_path = \"gs://open-speech-train\"\n",
    "model_path = root_path + \"/\" + model_name\n",
    "\n",
    "print(\"model_path:\", model_path)\n",
    "if tpu_node: print(\"tpu_node:\", tpu_node)"
   ]
  },
  {
   "cell_type": "markdown",
   "metadata": {},
   "source": [
    "## Distribution strategy"
   ]
  },
  {
   "cell_type": "code",
   "execution_count": null,
   "metadata": {
    "tags": []
   },
   "outputs": [],
   "source": [
    "# according to [Use TPUs](https://www.tensorflow.org/guide/tpu):\n",
    "# `The TPU initialization code has to be at the beginning of your program.`\n",
    "\n",
    "if tpu_node is not None:\n",
    "    if tpu_node == \"colab\":\n",
    "        import os\n",
    "        tpu_addr = os.environ[\"COLAB_TPU_ADDR\"]\n",
    "    else:\n",
    "        content = tf.io.read_file(root_path + \"/tpus.json\").numpy()\n",
    "        import io, json\n",
    "        with io.BytesIO(content) as file: tpu_addr = json.load(file).get(tpu_node)\n",
    "else: tpu_addr = None\n",
    "\n",
    "strategy = util.create_strategy(tpu_addr=tpu_addr)"
   ]
  },
  {
   "cell_type": "markdown",
   "metadata": {},
   "source": [
    "## Training parameters"
   ]
  },
  {
   "cell_type": "code",
   "execution_count": null,
   "metadata": {},
   "outputs": [],
   "source": [
    "learn_rate = 0.0001\n",
    "\n",
    "util.init_data()\n",
    "print(\"alphabet:\", util.alphabet)"
   ]
  },
  {
   "cell_type": "markdown",
   "metadata": {},
   "source": [
    "## Model definition"
   ]
  },
  {
   "cell_type": "code",
   "execution_count": null,
   "metadata": {},
   "outputs": [],
   "source": [
    "def create_model():\n",
    "    input = keras.layers.Input(shape=util.get_input_shape())\n",
    "    output = input\n",
    "\n",
    "    # ...\n",
    "\n",
    "    output = keras.layers.Conv1D(filters=util.num_chars, kernel_size=1)(output) \n",
    "    # NB: softmax is applied inside ctc_loss() and ctc_decode()\n",
    "\n",
    "    return keras.Model(inputs=input, outputs=output, name=model_name)\n",
    "\n",
    "def get_optimizer():\n",
    "    return keras.optimizers.Adam(learning_rate=learn_rate)\n",
    "\n",
    "def get_loss():\n",
    "    return util.ctc_loss\n",
    "\n",
    "def get_metrics():\n",
    "    return [ util.edit_distance ] if tpu_node is None else None # not supported on TPU"
   ]
  },
  {
   "cell_type": "markdown",
   "metadata": {},
   "source": [
    "## Create model"
   ]
  },
  {
   "cell_type": "code",
   "execution_count": null,
   "metadata": {
    "tags": []
   },
   "outputs": [],
   "source": [
    "import re\n",
    "\n",
    "ckpt_path = model_path + \"/checkpoints\"\n",
    "ckpt_templ = ckpt_path + \"/epoch-{epoch:04d}.ckpt\"\n",
    "ckpt_regex = re.compile(\"epoch-([0-9]+)\\.ckpt\")\n",
    "\n",
    "logs_path = model_path + \"/logs\"\n",
    "\n",
    "print(\"checkpoints:\", ckpt_path)\n",
    "print(\"logs:\", logs_path)\n",
    "\n",
    "ckpt_latest = tf.train.latest_checkpoint(ckpt_path)\n",
    "print(\"Latest checkpoint:\", ckpt_latest)\n",
    "\n",
    "# restore weights from a specific checkpoint (set to \"\" to ignore all checkpoints)\n",
    "#ckpt_latest = ckpt_path + \"/epoch-0000.ckpt\"\n",
    "print(\"Using checkpoint:\", ckpt_latest)"
   ]
  },
  {
   "cell_type": "code",
   "execution_count": null,
   "metadata": {
    "tags": []
   },
   "outputs": [],
   "source": [
    "with strategy.scope():\n",
    "    model = create_model()\n",
    "    model.compile(optimizer=get_optimizer(), loss=get_loss(), metrics=get_metrics())\n",
    "    model.summary()\n",
    "\n",
    "    if ckpt_latest:\n",
    "        print(\"Loading weights:\", ckpt_latest)\n",
    "        model.load_weights(ckpt_latest)\n",
    "\n",
    "print(\"Loading datasets\")\n",
    "train_data = util.get_train_dataset(prefetch=util.AUTOTUNE)\n",
    "valid_data = util.get_valid_dataset(prefetch=util.AUTOTUNE)"
   ]
  },
  {
   "cell_type": "markdown",
   "metadata": {},
   "source": [
    "## Train the model"
   ]
  },
  {
   "cell_type": "code",
   "execution_count": null,
   "metadata": {
    "tags": []
   },
   "outputs": [],
   "source": [
    "init_epoch = int(ckpt_regex.search(ckpt_latest).group(1)) if ckpt_latest else 0\n",
    "print(\"init_epoch:\", init_epoch)\n",
    "\n",
    "def update_init_epoch(epoch, logs):\n",
    "    global init_epoch\n",
    "    init_epoch = epoch + 1"
   ]
  },
  {
   "cell_type": "code",
   "execution_count": null,
   "metadata": {},
   "outputs": [],
   "source": [
    "hist = model.fit(x=train_data, validation_data=valid_data,\n",
    "    initial_epoch=init_epoch,\n",
    "    epochs=100,\n",
    "    callbacks=[\n",
    "        keras.callbacks.ModelCheckpoint(\n",
    "            filepath=ckpt_templ,\n",
    "            save_weights_only=True,\n",
    "        ),\n",
    "        keras.callbacks.TensorBoard(log_dir=logs_path),\n",
    "        keras.callbacks.LambdaCallback(on_epoch_end=update_init_epoch),\n",
    "    ]\n",
    ")"
   ]
  },
  {
   "cell_type": "code",
   "execution_count": null,
   "metadata": {},
   "outputs": [],
   "source": []
  }
 ],
 "metadata": {
  "kernelspec": {
   "display_name": "Python 3",
   "language": "python",
   "name": "python3"
  },
  "language_info": {
   "codemirror_mode": {
    "name": "ipython",
    "version": 3
   },
   "file_extension": ".py",
   "mimetype": "text/x-python",
   "name": "python",
   "nbconvert_exporter": "python",
   "pygments_lexer": "ipython3",
   "version": "3.8.2"
  }
 },
 "nbformat": 4,
 "nbformat_minor": 2
}